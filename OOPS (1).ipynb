{
  "nbformat": 4,
  "nbformat_minor": 0,
  "metadata": {
    "colab": {
      "provenance": []
    },
    "kernelspec": {
      "name": "python3",
      "display_name": "Python 3"
    },
    "language_info": {
      "name": "python"
    }
  },
  "cells": [
    {
      "cell_type": "code",
      "execution_count": null,
      "metadata": {
        "id": "SHsR6kmLZ6df"
      },
      "outputs": [],
      "source": []
    },
    {
      "cell_type": "markdown",
      "source": [
        "Q1.  What is Object-Oriented Programming (OOP)?\n",
        "\n",
        "________________________________________________________________________________--> Object-Oriented Programming (OOP) is a programming approach that is based on the concept of \"objects\", which are instances of classes. A class is like a blueprint that defines the structure and behavior (data and functions) that its objects will have. OOP helps in organizing complex programs by grouping related data and functions together.\n",
        "\n",
        "It includes key concepts such as encapsulation, which means hiding the internal details of an object and exposing only what is necessary;\n",
        "\n",
        " Inheritance, where a class can inherit properties and behavior from another class.\n",
        "\n",
        " Polymorphism, which allows different classes to define the same method in different ways; and abstraction, which hides complex implementation details and shows only the essential features. By using OOP, programmers can write reusable, maintainable, and modular code that mirrors real-world entities and relationships, making software development more efficient and easier to manage.\n",
        "\n",
        "________________________________________________________________________________\n",
        "\n",
        " Q2.  What is a class in OOP?\n",
        "\n",
        " ______________________________________________________________________________\n",
        "\n",
        "-->>  In Object-Oriented Programming (OOP), a class is a blueprint or template for creating objects. It defines the properties (attributes) and behaviors (methods) that the objects created from the class will have. A class does not hold any data itself but acts as a model for objects. For example, if we have a class called Car, it might have attributes like color, brand, and speed, and methods like drive() and brake(). When we create an object like my_car = Car(), it will have its own copy of those attributes and can use the methods defined in the class. Classes help organize code and make it reusable and easier to manage.\n",
        "\n",
        "________________________________________________________________________________\n",
        "\n",
        "Q3.What is an object in OOP?\n",
        "________________________________________________________________________________\n",
        "\n",
        "-->> In Object-Oriented Programming (OOP), an object is an instance of a class. It represents a real-world entity that has attributes (data) and methods (functions) defined by its class. While a class is just a blueprint, an object is the actual implementation based on that blueprint. Each object has its own separate values for the attributes defined in the class. For example, if there is a class Car, then car1 and car2 can be two different objects of that class, each with different colors or brands. Objects allow programmers to model real-life things in code, making programs more organized, modular, and easier to understand.\n",
        "\n",
        "\n",
        "_______________________________________________________________________________\n",
        "\n",
        "Q4.What is the difference between abstraction and encapsulation?\n",
        "\n",
        "_______________________________________________________________________________\n",
        "-->> **🔹 Abstraction**\n",
        "         \n",
        "a) Abstraction hides complex implementation details and shows only the          essential features.\n",
        "\n",
        "b)It focuses on what an object does rather than how it does it.\n",
        "\n",
        "c)Achieved using abstract classes or interfaces.\n",
        "\n",
        "d)Helps to reduce code complexity and improve code readability.\n",
        "\n",
        "e) Example: Driving a car without knowing how the engine works.\n",
        "\n",
        "🔹** Encapsulation**\n",
        "\n",
        "a)Encapsulation hides the internal data of an object and restricts access to it.\n",
        "\n",
        "b)It focuses on protecting data and controlling access to it.\n",
        "\n",
        "c)Achieved using access modifiers (like private, public, protected).\n",
        "\n",
        "d)Helps to make the code secure and maintainable.\n",
        "\n",
        "e) Example: A class with private variables and public getter/setter methods.\n",
        "\n",
        "________________________________________________________________________________\n",
        "\n",
        "5. What are dunder methods in Python?\n",
        "________________________________________________________________________________\n",
        "-->> In Python, dunder methods (short for \"double underscore\" methods) are special methods that begin and end with double underscores, like __init__, __str__, __len__, etc. These are also called magic methods or special methods. Dunder methods are used to define how objects of a class behave with built-in Python functions and operators. For example, the __init__ method is called automatically when a new object is created, and __str__ defines what should be displayed when the object is printed. These methods allow you to customize class behavior in a powerful and flexible way.\n",
        "\n",
        "_______________________________________________________________________________\n",
        "\n",
        "6. Explain the concept of inheritance in OOP?\n",
        "______________________________________________________________________________\n",
        "-->> Inheritance is one of the core concepts of Object-Oriented Programming (OOP). It allows a class (called the child class or subclass) to inherit the properties and behaviors (attributes and methods) of another class (called the parent class or superclass).\n",
        "\n",
        "The main purpose of inheritance is code reusability. Instead of writing the same code again, you can define it once in a parent class and let child classes use or extend it. Inheritance also helps in building a logical class hierarchy, making the code more organized and easier to maintain.\n",
        "\n",
        "For example, if you have a parent class Animal with a method make_sound(), you can create child classes like Dog or Cat that automatically get this method, and you can also add their own specific methods or override the inherited ones.\n",
        "\n",
        "________________________________________________________________________________\n",
        "\n",
        " 7. What is polymorphism in OOP?\n",
        " _______________________________________________________________________________\n",
        "\n",
        " -->> Polymorphism is a key concept in Object-Oriented Programming (OOP) that means \"many forms.\" It allows the same function, method, or operator to behave differently based on the object that is using it.\n",
        "\n",
        "________________________________________________________________________________\n",
        "\n",
        "Q8.How is encapsulation achieved in Python?\n",
        "________________________________________________________________________________\n",
        "\n",
        "-->> Encapsulation in Python is achieved by restricting access to the internal data (attributes) of a class and allowing access only through public methods. This helps protect the data from unintended changes and provides better control over how it is accessed or modified.\n",
        "\n",
        "🔹 Steps to Achieve Encapsulation:\n",
        "a)Private Attributes:-\n",
        "Prefix the attribute name with double underscore __ to make it private (not accessible directly from outside the class).\n",
        "\n",
        "Public Methods (Getters and Setters):-\n",
        "Create methods to get or set the values of private attributes safely.\n",
        "\n",
        "\n",
        "_______________________________________________________________________________\n",
        "\n",
        "Q9.What is a constructor in Python?\n",
        "-->> In Python, a constructor is a special method used to initialize objects when a class is instantiated. It is automatically called when a new object is created from a class.\n",
        "\n",
        " The constructor in Python is defined using the __init__() method.\n",
        "\n",
        "________________________________________________________________________________\n",
        "\n",
        "Q10. What are class and static methods in Python?\n",
        "-->> In Python, both class methods and static methods are used to define methods inside a class that are not tied to a specific instance. However, they serve different purposes and are defined using different decorators.\n",
        "\n",
        "\n",
        "🔹 Class Method:\n",
        "Defined using the @classmethod decorator.\n",
        "\n",
        "Takes cls (the class itself) as the first parameter, not self.\n",
        "\n",
        "Can access and modify class-level data.\n",
        "\n",
        "Useful when you want to define a method that works with the class as a whole, not just a specific object.\n",
        "\n",
        "\n",
        " Static Method:\n",
        "Defined using the @staticmethod decorator.\n",
        "\n",
        "Does not take self or cls as the first parameter.\n",
        "\n",
        "Cannot access or modify class or instance data.\n",
        "\n",
        "Useful for utility functions related to the class but not dependent on class or object.\n",
        "\n",
        "________________________________________________________________________________\n",
        "\n",
        "Q 11. What is method overloading in Python?\n",
        "________________________________________________________________________________\n",
        "-->> Method overloading in programming means having multiple methods with the same name but with different numbers or types of arguments. It allows a class to handle different types of input using the same method name.\n",
        "\n",
        "However, in Python, true method overloading is not supported like in other languages such as Java or C++. If you define multiple methods with the same name in a class, only the last one will be used, and the previous ones will be overwritten.\n",
        "\n",
        "Instead, Python achieves method overloading using default arguments, *args, and **kwargs, which allow a method to accept a variable number of arguments.\n",
        "\n",
        "________________________________________________________________________________\n",
        "\n",
        "Q 12. What is method overriding in OOP?\n",
        "\n",
        "_______________________________________________________________________________\n",
        "-->> Method overriding is a feature in Object-Oriented Programming (OOP) that allows a child class to provide a specific implementation of a method that is already defined in its parent class.\n",
        "\n",
        "_______________________________________________________________________________\n",
        "Q 13. What is a property decorator in Python?\n",
        "\n",
        "________________________________________________________________________________\n",
        "\n",
        "--->> In Python, the @property decorator is used to define a method that can be accessed like an attribute. It allows you to implement getter, setter, and deleter functionality in a clean and readable way, without changing how the attribute is accessed by the user.\n",
        "\n",
        "It is a way to encapsulate instance variables and provide controlled access to them, which is a key part of encapsulation in OOP.\n",
        "\n",
        "________________________________________________________________________________\n",
        "Q14. Why is polymorphism important in OOP?\n",
        "\n",
        "-->> Polymorphism is important in Object-Oriented Programming (OOP) because it adds flexibility, reusability, and scalability to the code. It allows different classes to define methods with the same name, but with different implementations, and lets the program decide at runtime which method to execute, based on the object calling it.\n",
        "\n",
        "________________________________________________________________________________\n",
        "\n",
        "15 What is an abstract class in Python?\n",
        "\n",
        "-->> An abstract class in Python is a blueprint for other classes. It cannot be instantiated, meaning you cannot create objects from it directly. Abstract classes are used to define common methods and properties that must be implemented in child classes.\n",
        "\n",
        "Python provides the ABC (Abstract Base Class) module from the abc library to create abstract classes.\n",
        "\n",
        "________________________________________________________________________________\n",
        "\n",
        "Q 16. What are the advantages of OOP\n",
        "________________________________________________________________________________\n",
        "-->> Object-Oriented Programming (OOP) offers several advantages that make it a powerful and widely used programming approach:\n",
        "\n",
        "1. Code Reusability\n",
        "OOP allows code reuse through inheritance. Once a behavior is defined in a class, it can be reused in other classes without rewriting the code.\n",
        "\n",
        "2. Modularity\n",
        "OOP organizes code into classes and objects, making it easier to manage, update, and debug. Each class is like a separate module.\n",
        "\n",
        "3. Encapsulation\n",
        "With encapsulation, internal object details are hidden, and access is controlled using methods. This makes the code more secure and maintainable.\n",
        "\n",
        "4. Polymorphism\n",
        "OOP supports polymorphism, allowing the same method name to behave differently based on the object calling it, making code more flexible and scalable.\n",
        "\n",
        " 5. Abstraction\n",
        "Abstraction allows programmers to hide complex implementation and show only the necessary features, which simplifies usage and reduces complexity.\n",
        "\n",
        "6. Easier Maintenance\n",
        "Since OOP separates data and functionality into classes, it's easier to update and maintain parts of the program without affecting the entire codebase.\n",
        "\n",
        "7. Real-world Modeling\n",
        "OOP models real-world entities as objects, making it easier to design software that is intuitive and close to human thinking.\n",
        "\n",
        "8. Scalability\n",
        "OOP makes it easier to add new features or modify existing ones without affecting other parts of the program, which helps in building large and complex applications.\n",
        "\n",
        "________________________________________________________________________________\n",
        "\n",
        "Q 18. What is the difference between a class variable and an instance variable\n",
        "________________________________________________________________________________\n",
        "-->>  Class Variable:\n",
        "Shared by all objects of the class.\n",
        "\n",
        "Defined inside the class, but outside any methods.\n",
        "\n",
        "Changing the value affects all instances unless overridden.\n",
        "\n",
        " Instance Variable:\n",
        "\n",
        "Unique to each object.\n",
        "\n",
        "Defined using self inside the constructor or methods.\n",
        "\n",
        "Changing the value affects only that specific object.\n",
        "\n",
        "________________________________________________________________________________\n",
        "\n",
        "Q 18. What is multiple inheritance in Python\n",
        "________________________________________________________________________________\n",
        "-->>Multiple inheritance in Python means that a class can inherit from more than one parent class. This allows the child class to access the properties and methods of all its parent classes, giving it the combined functionality.\n",
        "\n",
        " Key Points:\n",
        "Python supports multiple inheritance directly.\n",
        "\n",
        "The child class gets access to all non-conflicting attributes and methods of the parent classes.\n",
        "\n",
        "If the same method name is present in multiple parent classes, Python follows the Method Resolution Order (MRO) to decide which one to use (left-to-right order in class definition).\n",
        "\n",
        "_______________________________________________________________________________\n",
        "\n",
        "Q 19.Explain the purpose of ‘’__str__’ and ‘__repr__’ ‘ methods in Python.\n",
        "_______________________________________________________________________________\n",
        "-->> __str__ Method:\n",
        "\n",
        "Used to return a readable, user-friendly string representation of an object.\n",
        "\n",
        "Called when using print(obj) or str(obj).\n",
        "\n",
        "Should return a string that is easy to read and understand.\n",
        "\n",
        "Used mainly for end-user output.\n",
        "\n",
        "\n",
        "\n",
        " __repr__ Method:\n",
        "\n",
        "Used to return an unambiguous string representation of an object.\n",
        "\n",
        "Called when using repr(obj) or typing the object in the interactive shell.\n",
        "\n",
        "Should ideally return a string that can recreate the object (using eval()).\n",
        "\n",
        "Used mainly for debugging and development.\n",
        "\n",
        "________________________________________________________________________________\n",
        "Q.20. What is the significance of the ‘super()’ function in Python?\n",
        "________________________________________________________________________________\n",
        "-->> Calls Parent Class Methods:\n",
        "\n",
        "It allows you to call a method from the parent class without explicitly naming it.\n",
        "\n",
        "Avoids Hardcoding:\n",
        "You don’t need to write the parent class name — super() automatically refers to the correct superclass.\n",
        "\n",
        "Supports Multiple Inheritance:\n",
        "In complex class hierarchies, super() works with Method Resolution Order (MRO) to determine the correct method to call.\n",
        "\n",
        "Used with __init__:\n",
        "Commonly used to call the parent class constructor (__init__) to initialize inherited attributes.\n",
        "\n",
        "Improves Maintainability:\n",
        "Makes your code easier to modify and extend — especially when classes are renamed or inherited multiple times.\n",
        "\n",
        "________________________________________________________________________________\n",
        "\n",
        "Q.21.  What is the significance of the __del__ method in Python?\n",
        "________________________________________________________________________________\n",
        "-->>\n",
        " a) Destructor Method:\n",
        "__del__ is used to define clean-up actions just before an object is deleted.\n",
        "\n",
        " b)Automatic Call:\n",
        "Python automatically calls __del__(self) when the object's reference count drops to zero.\n",
        "\n",
        " c)Used For Cleanup:\n",
        "Ideal for:\n",
        "\n",
        "  .Releasing external resources (files, database connections).\n",
        "\n",
        "  .Printing messages when objects are deleted (for debugging).\n",
        "\n",
        "  ______________________________________________________________________________\n",
        "\n",
        "Q.22. What is the difference between @staticmethod and @classmethod in Python\n",
        "\n",
        "________________________________________________________________________________\n",
        "\n",
        "->  1. @staticmethod:\n",
        "a.)Does NOT take self or cls as the first parameter.\n",
        "\n",
        "b.)Belongs to the class, but cannot access class or instance data.\n",
        "\n",
        "c.)Used for utility/helper functions related to the class.\n",
        "\n",
        " 2. @classmethod:\n",
        "a.)Takes cls as the first parameter (refers to the class itself).\n",
        "\n",
        "b.)Can access or modify class variables.\n",
        "\n",
        "c.)Used to create factory methods or when method logic depends on the class.\n",
        "\n",
        "________________________________________________________________________________\n",
        "\n",
        "Q.23.How does polymorphism work in Python with inheritance?\n",
        "\n",
        "-->>\n",
        "1)Polymorphism with Inheritance:\n",
        "\n",
        "Subclasses inherit methods from a parent class.\n",
        "\n",
        "They can override methods to change behavior.\n",
        "\n",
        "You can use the same method name, and Python will call the appropriate version based on the object.\n",
        "\n",
        "2) Single Interface – Multiple Implementations:\n",
        "\n",
        "You call the same method name, but different classes provide different implementations.\n",
        "\n",
        "3) Runtime Behavior:\n",
        "\n",
        "Python determines which method to run at runtime, depending on the object’s class.\n",
        "\n",
        "_______________________________________________________________________________\n",
        "Q.24.What is method chaining in Python OOP?\n",
        "_______________________________________________________________________________\n",
        "\n",
        "-->> Method chaining in Python means calling multiple methods on the same object in a single line, one after the other.\n",
        "Each method returns the object itself (self), allowing the next method to be called.\n",
        "\n",
        "________________________________________________________________________________\n",
        "\n",
        "Q.25.What is the purpose of the __call__ method in Python?\n",
        "________________________________________________________________________________\n",
        "\n",
        "-->> The __call__ method in Python allows an instance of a class to be called like a function. When you use object(), Python automatically calls object.__call__().\n",
        "\n",
        "________________________________________________________________________________\n",
        "\n",
        "\n",
        "\n",
        "\n",
        "\n",
        "\n",
        "\n",
        "\n",
        "\n",
        "\n",
        "\n",
        "\n",
        "\n",
        "\n",
        "\n",
        "\n",
        "Ask ChatGPT\n",
        "\n",
        "\n",
        "\n",
        "\n",
        "\n",
        "Ask ChatGPT\n",
        "\n"
      ],
      "metadata": {
        "id": "sGPesJ_zaExC"
      }
    },
    {
      "cell_type": "markdown",
      "source": [
        "                            *** Practical Questions***\n",
        "\n",
        " Q1.. 1. Create a parent class Animal with a method speak() that prints a generic message. Create a child class Dog\n",
        "that overrides the speak() method to print \"Bark\n",
        "________________________________________________________________________________                          \n",
        "\n",
        "\n",
        "\n"
      ],
      "metadata": {
        "id": "AjC0VIOuei2G"
      }
    },
    {
      "cell_type": "code",
      "source": [
        "# Parent class\n",
        "class Animal:\n",
        "    def speak(self):\n",
        "        print(\"The animal makes a sound.\")\n",
        "\n",
        "# Child class\n",
        "class Dog(Animal):\n",
        "    def speak(self):\n",
        "        print(\"Bark\")\n",
        "\n",
        "# Test the classes\n",
        "a = Animal()\n",
        "a.speak()   # Output: The animal makes a sound.\n",
        "\n",
        "d = Dog()\n",
        "d.speak()   # Output: Bark\n"
      ],
      "metadata": {
        "colab": {
          "base_uri": "https://localhost:8080/"
        },
        "id": "U_2T66k-ihqg",
        "outputId": "9e292945-ca04-4702-9353-240439bcd3cc"
      },
      "execution_count": null,
      "outputs": [
        {
          "output_type": "stream",
          "name": "stdout",
          "text": [
            "The animal makes a sound.\n",
            "Bark\n"
          ]
        }
      ]
    },
    {
      "cell_type": "markdown",
      "source": [
        "Q2.. . Write a program to create an abstract class Shape with a method area(). Derive classes Circle and Rectangle\n",
        "from it and implement the area() method in both"
      ],
      "metadata": {
        "id": "Ll2UxiBgi0dV"
      }
    },
    {
      "cell_type": "code",
      "source": [
        "from abc import ABC, abstractmethod\n",
        "import math\n",
        "\n",
        "# Abstract class\n",
        "class Shape(ABC):\n",
        "    @abstractmethod\n",
        "    def area(self):\n",
        "        pass\n",
        "\n",
        "# Derived class: Circle\n",
        "class Circle(Shape):\n",
        "    def __init__(self, radius):\n",
        "        self.radius = radius\n",
        "\n",
        "    def area(self):\n",
        "        return math.pi * self.radius ** 2\n",
        "\n",
        "# Derived class: Rectangle\n",
        "class Rectangle(Shape):\n",
        "    def __init__(self, length, width):\n",
        "        self.length = length\n",
        "        self.width = width\n",
        "\n",
        "    def area(self):\n",
        "        return self.length * self.width\n",
        "\n",
        "# Test the classes\n",
        "circle = Circle(5)\n",
        "rectangle = Rectangle(4, 6)\n",
        "\n",
        "print(\"Circle Area:\", circle.area())       # Output: 78.54...\n",
        "print(\"Rectangle Area:\", rectangle.area()) # Output: 24\n"
      ],
      "metadata": {
        "colab": {
          "base_uri": "https://localhost:8080/"
        },
        "id": "2KPDcfwzi8Ij",
        "outputId": "1b41ce87-f1a6-49f3-d3b2-10b0ee3646b2"
      },
      "execution_count": null,
      "outputs": [
        {
          "output_type": "stream",
          "name": "stdout",
          "text": [
            "Circle Area: 78.53981633974483\n",
            "Rectangle Area: 24\n"
          ]
        }
      ]
    },
    {
      "cell_type": "markdown",
      "source": [
        "Q3.. Implement a multi-level inheritance scenario where a class Vehicle has an attribute type. Derive a class Car\n",
        "and further derive a class ElectricCar that adds a battery attribute"
      ],
      "metadata": {
        "id": "OZuRRfBpjG7F"
      }
    },
    {
      "cell_type": "code",
      "source": [
        "# Base class\n",
        "class Vehicle:\n",
        "    def __init__(self, vehicle_type):\n",
        "        self.vehicle_type = vehicle_type\n",
        "\n",
        "    def show_type(self):\n",
        "        print(f\"Vehicle Type: {self.vehicle_type}\")\n",
        "\n",
        "# Derived class from Vehicle\n",
        "class Car(Vehicle):\n",
        "    def __init__(self, vehicle_type, brand):\n",
        "        super().__init__(vehicle_type)  # Call Vehicle constructor\n",
        "        self.brand = brand\n",
        "\n",
        "    def show_brand(self):\n",
        "        print(f\"Car Brand: {self.brand}\")\n",
        "\n",
        "# Further derived class from Car\n",
        "class ElectricCar(Car):\n",
        "    def __init__(self, vehicle_type, brand, battery_capacity):\n",
        "        super().__init__(vehicle_type, brand)  # Call Car constructor\n",
        "        self.battery_capacity = battery_capacity\n",
        "\n",
        "    def show_battery(self):\n",
        "        print(f\"Battery Capacity: {self.battery_capacity} kWh\")\n",
        "\n",
        "# Create an ElectricCar object\n",
        "e_car = ElectricCar(\"Four Wheeler\", \"Tesla\", 75)\n",
        "\n",
        "# Call all methods\n",
        "e_car.show_type()       # Output: Vehicle Type: Four Wheeler\n",
        "e_car.show_brand()      # Output: Car Brand: Tesla\n",
        "e_car.show_battery()    # Output: Battery Capacity: 75 kWh\n"
      ],
      "metadata": {
        "colab": {
          "base_uri": "https://localhost:8080/"
        },
        "id": "0vqbaxJ4jjNL",
        "outputId": "958505f6-f868-485e-df46-ecbf81001a4f"
      },
      "execution_count": null,
      "outputs": [
        {
          "output_type": "stream",
          "name": "stdout",
          "text": [
            "Vehicle Type: Four Wheeler\n",
            "Car Brand: Tesla\n",
            "Battery Capacity: 75 kWh\n"
          ]
        }
      ]
    },
    {
      "cell_type": "markdown",
      "source": [
        "Q4..  Demonstrate polymorphism by creating a base class Bird with a method fly(). Create two derived classes\n",
        "Sparrow and Penguin that override the fly() method"
      ],
      "metadata": {
        "id": "-ZjyAP-tju7r"
      }
    },
    {
      "cell_type": "code",
      "source": [
        "# Base class\n",
        "class Bird:\n",
        "    def fly(self):\n",
        "        print(\"Bird is flying\")\n",
        "\n",
        "# Derived class: Sparrow\n",
        "class Sparrow(Bird):\n",
        "    def fly(self):\n",
        "        print(\"Sparrow flies high in the sky\")\n",
        "\n",
        "# Derived class: Penguin\n",
        "class Penguin(Bird):\n",
        "    def fly(self):\n",
        "        print(\"Penguins can't fly, they swim\")\n",
        "\n",
        "# Function to demonstrate polymorphism\n",
        "def show_flight(bird):\n",
        "    bird.fly()\n",
        "\n",
        "# Create objects of derived classes\n",
        "sparrow = Sparrow()\n",
        "penguin = Penguin()\n",
        "\n",
        "# Call the same method on different objects\n",
        "show_flight(sparrow)   # Output: Sparrow flies high in the sky\n",
        "show_flight(penguin)   # Output: Penguins can't fly, they swim\n"
      ],
      "metadata": {
        "colab": {
          "base_uri": "https://localhost:8080/"
        },
        "id": "KQoFy7UPkCMJ",
        "outputId": "a1b14200-1e69-4d8a-be2f-3b2c76c7f611"
      },
      "execution_count": null,
      "outputs": [
        {
          "output_type": "stream",
          "name": "stdout",
          "text": [
            "Sparrow flies high in the sky\n",
            "Penguins can't fly, they swim\n"
          ]
        }
      ]
    },
    {
      "cell_type": "markdown",
      "source": [
        "Q5.. Write a program to demonstrate encapsulation by creating a class BankAccount with private attributes\n",
        "balance and methods to deposit, withdraw, and check balance."
      ],
      "metadata": {
        "id": "7sPsIamrkEqq"
      }
    },
    {
      "cell_type": "code",
      "source": [
        "class BankAccount:\n",
        "    def __init__(self, balance=0):\n",
        "        self.__balance = balance\n",
        "\n",
        "    def deposit(self, amount):\n",
        "        self.__balance += amount if amount > 0 else 0\n",
        "        print(f\"Deposited ₹{amount}\" if amount > 0 else \"Amount must be positive\")\n",
        "\n",
        "    def withdraw(self, amount):\n",
        "        if amount > 0 and self.__balance >= amount:\n",
        "            self.__balance -= amount\n",
        "            print(f\"Withdrew ₹{amount}\")\n",
        "        else:\n",
        "            print(\"Invalid amount or insufficient balance\")\n",
        "\n",
        "    def check_balance(self):\n",
        "        print(f\"Balance: ₹{self.__balance}\")\n",
        "\n",
        "# Test\n",
        "acc = BankAccount(1000)\n",
        "acc.check_balance()\n",
        "acc.deposit(500)\n",
        "acc.withdraw(300)\n",
        "acc.check_balance()\n"
      ],
      "metadata": {
        "colab": {
          "base_uri": "https://localhost:8080/"
        },
        "id": "z5Q0p5_KkQgN",
        "outputId": "a5dbab64-6b7f-47e4-9591-d31f64d50db7"
      },
      "execution_count": null,
      "outputs": [
        {
          "output_type": "stream",
          "name": "stdout",
          "text": [
            "Balance: ₹1000\n",
            "Deposited ₹500\n",
            "Withdrew ₹300\n",
            "Balance: ₹1200\n"
          ]
        }
      ]
    },
    {
      "cell_type": "markdown",
      "source": [
        "Q6.. Demonstrate runtime polymorphism using a method play() in a base class Instrument. Derive classes Guitar\n",
        "and Piano that implement their own version of play()."
      ],
      "metadata": {
        "id": "vxiahd7SknPX"
      }
    },
    {
      "cell_type": "code",
      "source": [
        "class Instrument:\n",
        "    def play(self): print(\"Instrument is playing\")\n",
        "\n",
        "class Guitar(Instrument):\n",
        "    def play(self): print(\"Strumming the guitar\")\n",
        "\n",
        "class Piano(Instrument):\n",
        "    def play(self): print(\"Playing the piano keys\")\n",
        "\n",
        "for instrument in (Guitar(), Piano()):\n",
        "    instrument.play()\n"
      ],
      "metadata": {
        "colab": {
          "base_uri": "https://localhost:8080/"
        },
        "id": "fL-zwAwwk3dZ",
        "outputId": "0a2848ce-58ea-4632-fec0-64d8db0969df"
      },
      "execution_count": null,
      "outputs": [
        {
          "output_type": "stream",
          "name": "stdout",
          "text": [
            "Strumming the guitar\n",
            "Playing the piano keys\n"
          ]
        }
      ]
    },
    {
      "cell_type": "markdown",
      "source": [
        "Q7.. Create a class MathOperations with a class method add_numbers() to add two numbers and a static\n",
        "method subtract_numbers() to subtract two numbers."
      ],
      "metadata": {
        "id": "jBTVml_xlEWz"
      }
    },
    {
      "cell_type": "code",
      "source": [
        "class MathOperations:\n",
        "    @classmethod\n",
        "    def add_numbers(cls, a, b):\n",
        "        return a + b\n",
        "\n",
        "    @staticmethod\n",
        "    def subtract_numbers(a, b):\n",
        "        return a - b\n",
        "\n",
        "# Test the methods\n",
        "print(\"Addition:\", MathOperations.add_numbers(10, 5))       # Output: 15\n",
        "print(\"Subtraction:\", MathOperations.subtract_numbers(10, 5))  # Output: 5\n"
      ],
      "metadata": {
        "colab": {
          "base_uri": "https://localhost:8080/"
        },
        "id": "eBNERROzlQgr",
        "outputId": "82eb3bb0-9b1d-47a6-8ca6-8a34a79e90fd"
      },
      "execution_count": null,
      "outputs": [
        {
          "output_type": "stream",
          "name": "stdout",
          "text": [
            "Addition: 15\n",
            "Subtraction: 5\n"
          ]
        }
      ]
    },
    {
      "cell_type": "markdown",
      "source": [
        "Q8..Implement a class Person with a class method to count the total number of persons created."
      ],
      "metadata": {
        "id": "czIEHGtFlXvI"
      }
    },
    {
      "cell_type": "code",
      "source": [
        "class Person:\n",
        "    count = 0\n",
        "    def __init__(self, name):\n",
        "        self.name = name\n",
        "        Person.count += 1\n",
        "    @classmethod\n",
        "    def total(cls):\n",
        "        return cls.count\n",
        "\n",
        "p1 = Person(\"A\")\n",
        "p2 = Person(\"B\")\n",
        "print(\"Total:\", Person.total())  # Output: Total: 2\n"
      ],
      "metadata": {
        "colab": {
          "base_uri": "https://localhost:8080/"
        },
        "id": "0wMIV_TVl7vy",
        "outputId": "67620a80-385b-4101-8b0b-ead005bdd209"
      },
      "execution_count": null,
      "outputs": [
        {
          "output_type": "stream",
          "name": "stdout",
          "text": [
            "Total: 2\n"
          ]
        }
      ]
    },
    {
      "cell_type": "markdown",
      "source": [
        " Q.9 Write a class Fraction with attributes numerator and denominator. Override the str method to display the\n",
        "fraction as \"numerator/denominator\"."
      ],
      "metadata": {
        "id": "otxK_pdZGhjX"
      }
    },
    {
      "cell_type": "code",
      "source": [
        " Write a class Fraction with attributes numerator and denominator. Override the str method to display the\n",
        "fraction as \"numerator/denominator\"."
      ],
      "metadata": {
        "id": "pQGwkvRoGtsn"
      },
      "execution_count": null,
      "outputs": []
    },
    {
      "cell_type": "markdown",
      "source": [
        " Q10..Demonstrate operator overloading by creating a class Vector and overriding the add method to add two\n",
        "vectors."
      ],
      "metadata": {
        "id": "Q361p4zSGyri"
      }
    },
    {
      "cell_type": "code",
      "source": [
        "class Vector:\n",
        "    def __init__(self, x, y):\n",
        "        self.x = x\n",
        "        self.y = y\n",
        "\n",
        "    def __add__(self, other):\n",
        "        # Add corresponding components\n",
        "        return Vector(self.x + other.x, self.y + other.y)\n",
        "\n",
        "    def __str__(self):\n",
        "        return f\"Vector({self.x}, {self.y})\"\n",
        "\n",
        "# Example usage:\n",
        "v1 = Vector(2, 3)\n",
        "v2 = Vector(4, 5)\n",
        "v3 = v1 + v2   # Uses the overloaded __add__ method\n",
        "\n",
        "print(v3)      # Output: Vector(6, 8)\n"
      ],
      "metadata": {
        "colab": {
          "base_uri": "https://localhost:8080/"
        },
        "id": "HZ_uUngQHBEy",
        "outputId": "7f254453-8ab2-44f1-f385-46aabb621604"
      },
      "execution_count": 1,
      "outputs": [
        {
          "output_type": "stream",
          "name": "stdout",
          "text": [
            "Vector(6, 8)\n"
          ]
        }
      ]
    },
    {
      "cell_type": "markdown",
      "source": [
        " Q11..Create a class Person with attributes name and age. Add a method greet() that prints \"Hello, my name is\n",
        "{name} and I am {age} years old.\""
      ],
      "metadata": {
        "id": "BBJZPnUeHLHl"
      }
    },
    {
      "cell_type": "code",
      "source": [
        "class Person:\n",
        "    def __init__(self, name, age):\n",
        "        self.name = name\n",
        "        self.age = age\n",
        "\n",
        "    def greet(self):\n",
        "        print(f\"Hello, my name is {self.name} and I am {self.age} years old.\")\n",
        "\n",
        "# Example usage:\n",
        "p1 = Person(\"Gaurav\", 21)\n",
        "p1.greet()\n"
      ],
      "metadata": {
        "colab": {
          "base_uri": "https://localhost:8080/"
        },
        "id": "fgZULsmAHifz",
        "outputId": "cbe895b8-e0e7-4367-dd27-facceeaa87b7"
      },
      "execution_count": 2,
      "outputs": [
        {
          "output_type": "stream",
          "name": "stdout",
          "text": [
            "Hello, my name is Gaurav and I am 21 years old.\n"
          ]
        }
      ]
    },
    {
      "cell_type": "markdown",
      "source": [
        "Q12..Implement a class Student with attributes name and grades. Create a method average_grade() to compute\n",
        "the average of the grades."
      ],
      "metadata": {
        "id": "jah8PLiPHmYg"
      }
    },
    {
      "cell_type": "code",
      "source": [
        "class Student:\n",
        "    def __init__(self, name, grades):\n",
        "        self.name = name\n",
        "        self.grades = grades  # grades should be a list of numbers\n",
        "\n",
        "    def average_grade(self):\n",
        "        if not self.grades:\n",
        "            return 0\n",
        "        return sum(self.grades) / len(self.grades)\n",
        "\n",
        "# Example usage:\n",
        "s1 = Student(\"Kajal\", [85, 90, 78, 92])\n",
        "print(f\"{s1.name}'s average grade is: {s1.average_grade()}\")\n"
      ],
      "metadata": {
        "colab": {
          "base_uri": "https://localhost:8080/"
        },
        "id": "qFCZGZn3H4rA",
        "outputId": "406afcc4-b0e8-471b-9248-303a336faa62"
      },
      "execution_count": 3,
      "outputs": [
        {
          "output_type": "stream",
          "name": "stdout",
          "text": [
            "Kajal's average grade is: 86.25\n"
          ]
        }
      ]
    },
    {
      "cell_type": "markdown",
      "source": [
        "Q13 Create a class Rectangle with methods set_dimensions() to set the dimensions and area() to calculate the\n",
        "area.\n",
        "\n"
      ],
      "metadata": {
        "id": "bFWnmR4XH9NZ"
      }
    },
    {
      "cell_type": "code",
      "source": [
        "class Rectangle:\n",
        "    def __init__(self):\n",
        "        self.length = 0\n",
        "        self.width = 0\n",
        "\n",
        "    def set_dimensions(self, length, width):\n",
        "        self.length = length\n",
        "        self.width = width\n",
        "\n",
        "    def area(self):\n",
        "        return self.length * self.width\n",
        "\n",
        "# Example usage:\n",
        "rect = Rectangle()\n",
        "rect.set_dimensions(5, 3)\n",
        "print(\"Area of rectangle:\", rect.area())\n"
      ],
      "metadata": {
        "colab": {
          "base_uri": "https://localhost:8080/"
        },
        "id": "HuC14pNqILKh",
        "outputId": "b966272d-fe7e-4fbd-d5e7-73b368bc46e1"
      },
      "execution_count": 4,
      "outputs": [
        {
          "output_type": "stream",
          "name": "stdout",
          "text": [
            "Area of rectangle: 15\n"
          ]
        }
      ]
    },
    {
      "cell_type": "markdown",
      "source": [
        "Q14 Create a class Employee with a method calculate_salary() that computes the salary based on hours worked\n",
        "and hourly rate. Create a derived class Manager that adds a bonus to the salary"
      ],
      "metadata": {
        "id": "TL_79glIIP-p"
      }
    },
    {
      "cell_type": "code",
      "source": [
        "class Employee:\n",
        "    def __init__(self, name, hours, rate):\n",
        "        self.name, self.hours, self.rate = name, hours, rate\n",
        "    def calculate_salary(self):\n",
        "        return self.hours * self.rate\n",
        "\n",
        "class Manager(Employee):\n",
        "    def __init__(self, name, hours, rate, bonus):\n",
        "        super().__init__(name, hours, rate)\n",
        "        self.bonus = bonus\n",
        "    def calculate_salary(self):\n",
        "        return super().calculate_salary() + self.bonus\n",
        "\n",
        "emp = Employee(\"gaurav\", 40, 200)\n",
        "print(f\"{emp.name}'s salary: ₹{emp.calculate_salary()}\")\n",
        "\n",
        "mgr = Manager(\"kajal\", 40, 300, 5000)\n",
        "print(f\"{mgr.name}'s salary (with bonus): ₹{mgr.calculate_salary()}\")\n"
      ],
      "metadata": {
        "colab": {
          "base_uri": "https://localhost:8080/"
        },
        "id": "r2bks7ZJIjVl",
        "outputId": "5dde263c-4805-4710-a158-c9697c93f5bb"
      },
      "execution_count": 6,
      "outputs": [
        {
          "output_type": "stream",
          "name": "stdout",
          "text": [
            "gaurav's salary: ₹8000\n",
            "kajal's salary (with bonus): ₹17000\n"
          ]
        }
      ]
    },
    {
      "cell_type": "markdown",
      "source": [
        "Q15..  Create a class Product with attributes name, price, and quantity. Implement a method total_price() that\n",
        "calculates the total price of the product"
      ],
      "metadata": {
        "id": "A1j8uDWuIwY_"
      }
    },
    {
      "cell_type": "code",
      "source": [
        "class Product:\n",
        "    def __init__(self, name, price, quantity):\n",
        "        self.name = name\n",
        "        self.price = price\n",
        "        self.quantity = quantity\n",
        "\n",
        "    def total_price(self):\n",
        "        return self.price * self.quantity\n",
        "\n",
        "# Example usage:\n",
        "p1 = Product(\"Notebook\", 50, 4)\n",
        "print(f\"Total price of {p1.name}: ₹{p1.total_price()}\")\n"
      ],
      "metadata": {
        "colab": {
          "base_uri": "https://localhost:8080/"
        },
        "id": "GyklBVsxJBSJ",
        "outputId": "28d259ce-a4c9-4e19-916e-f8ce36a5b2dd"
      },
      "execution_count": 7,
      "outputs": [
        {
          "output_type": "stream",
          "name": "stdout",
          "text": [
            "Total price of Notebook: ₹200\n"
          ]
        }
      ]
    },
    {
      "cell_type": "markdown",
      "source": [],
      "metadata": {
        "id": "bdVaKTYwIoFR"
      }
    },
    {
      "cell_type": "markdown",
      "source": [
        "Q16.. Create a class Animal with an abstract method sound(). Create two derived classes Cow and Sheep that\n",
        "implement the sound() method"
      ],
      "metadata": {
        "id": "z28fMi2WJGFQ"
      }
    },
    {
      "cell_type": "code",
      "source": [
        "from abc import ABC, abstractmethod\n",
        "\n",
        "# Abstract base class\n",
        "class Animal(ABC):\n",
        "    @abstractmethod\n",
        "    def sound(self):\n",
        "        pass\n",
        "\n",
        "# Derived class Cow\n",
        "class Cow(Animal):\n",
        "    def sound(self):\n",
        "        return \"Moo\"\n",
        "\n",
        "# Derived class Sheep\n",
        "class Sheep(Animal):\n",
        "    def sound(self):\n",
        "        return \"Baa\"\n",
        "\n",
        "# Example usage:\n",
        "c = Cow()\n",
        "s = Sheep()\n",
        "\n",
        "print(f\"Cow sound: {c.sound()}\")\n",
        "print(f\"Sheep sound: {s.sound()}\")\n"
      ],
      "metadata": {
        "colab": {
          "base_uri": "https://localhost:8080/"
        },
        "id": "sgugayPhJWSN",
        "outputId": "f0a99ea4-5e4e-4708-81d4-f824946f0079"
      },
      "execution_count": 9,
      "outputs": [
        {
          "output_type": "stream",
          "name": "stdout",
          "text": [
            "Cow sound: Moo\n",
            "Sheep sound: Baa\n"
          ]
        }
      ]
    },
    {
      "cell_type": "markdown",
      "source": [
        "Q17..  Create a class Book with attributes title, author, and year_published. Add a method get_book_info() that\n",
        "returns a formatted string with the book's details."
      ],
      "metadata": {
        "id": "7KlvFHkTJdsz"
      }
    },
    {
      "cell_type": "code",
      "source": [
        "class Book:\n",
        "    def __init__(self, title, author, year_published):\n",
        "        self.title = title\n",
        "        self.author = author\n",
        "        self.year_published = year_published\n",
        "\n",
        "    def get_book_info(self):\n",
        "        return f\"'{self.title}' by {self.author} (Published in {self.year_published})\"\n",
        "\n",
        "# Example usage:\n",
        "b1 = Book(\"Wings of Fire\", \"A.P.J. Abdul Kalam\", 1999)\n",
        "print(b1.get_book_info())\n"
      ],
      "metadata": {
        "colab": {
          "base_uri": "https://localhost:8080/"
        },
        "id": "yyApqTjtJrw4",
        "outputId": "82a0ee2c-caaf-4bdd-b3ff-737cc3113e41"
      },
      "execution_count": 10,
      "outputs": [
        {
          "output_type": "stream",
          "name": "stdout",
          "text": [
            "'Wings of Fire' by A.P.J. Abdul Kalam (Published in 1999)\n"
          ]
        }
      ]
    },
    {
      "cell_type": "markdown",
      "source": [
        "Q18.. Create a class House with attributes address and price. Create a derived class Mansion that adds an\n",
        "attribute number_of_rooms."
      ],
      "metadata": {
        "id": "u3V1AAzHJ2Le"
      }
    },
    {
      "cell_type": "code",
      "source": [
        "# Base class\n",
        "class House:\n",
        "    def __init__(self, address, price):\n",
        "        self.address = address\n",
        "        self.price = price\n",
        "\n",
        "# Derived class\n",
        "class Mansion(House):\n",
        "    def __init__(self, address, price, number_of_rooms):\n",
        "        super().__init__(address, price)\n",
        "        self.number_of_rooms = number_of_rooms\n",
        "\n",
        "# Example usage:\n",
        "m1 = Mansion(\"123 Luxury Street\", 50000000, 10)\n",
        "print(f\"Address: {m1.address}\")\n",
        "print(f\"Price: ₹{m1.price}\")\n",
        "print(f\"Number of rooms: {m1.number_of_rooms}\")\n"
      ],
      "metadata": {
        "colab": {
          "base_uri": "https://localhost:8080/"
        },
        "id": "_Ax-ksXqKLgh",
        "outputId": "b1015848-395e-4127-bdd2-14df28b3b019"
      },
      "execution_count": 11,
      "outputs": [
        {
          "output_type": "stream",
          "name": "stdout",
          "text": [
            "Address: 123 Luxury Street\n",
            "Price: ₹50000000\n",
            "Number of rooms: 10\n"
          ]
        }
      ]
    }
  ]
}